{
 "cells": [
  {
   "cell_type": "code",
   "execution_count": 1,
   "metadata": {},
   "outputs": [],
   "source": [
    "# -=-<[ Bismillahirrahmanirrahim ]>-=-\n",
    "# -*- coding: utf-8 -*-\n",
    "# @Date    : 2024-10-25 20:10:44\n",
    "# @Author  : Dahir Muhammad Dahir (dahirmuhammad3@gmail.com)\n",
    "# @Link    : link\n",
    "# @Version : 1.0.0\n",
    "# @About   : Notebook on learning about backslash powered scanner\n",
    "\n"
   ]
  },
  {
   "cell_type": "markdown",
   "metadata": {},
   "source": [
    "# Backslash Scanner\n",
    "\n",
    "## Probe pair fuzzing\n",
    "\n",
    "![probe pair fuzzing](diffing.png)\n",
    "\n",
    "## Alternate probe-pairs\n",
    "\n",
    "```bash\n",
    "' vs \\' // single-quoted string\n",
    "' vs '' // single-quoted string (alternative escaping)\n",
    "\" vs \\\" // double-quoted string\n",
    "7/0 vs 7/1 // number\n",
    "${{ vs $}} // interpolation\n",
    "/**/ vs /*/ // raw code\n",
    ",99 vs ,1 // order-by\n",
    "sprintz vs sprintf // function name \n",
    "\n",
    "```\n",
    "\n",
    "1. first identify the types of quotes in use\n",
    "2. then the concatenation sequence\n",
    "3. then identify whether function calls are possible\n",
    "4. then send a sequence of language specific function in attempt to identify the backend language"
   ]
  }
 ],
 "metadata": {
  "kernelspec": {
   "display_name": ".venv",
   "language": "python",
   "name": "python3"
  },
  "language_info": {
   "codemirror_mode": {
    "name": "ipython",
    "version": 3
   },
   "file_extension": ".py",
   "mimetype": "text/x-python",
   "name": "python",
   "nbconvert_exporter": "python",
   "pygments_lexer": "ipython3",
   "version": "3.12.3"
  }
 },
 "nbformat": 4,
 "nbformat_minor": 2
}
