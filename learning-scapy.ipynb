{
 "cells": [
  {
   "cell_type": "code",
   "execution_count": 3,
   "metadata": {},
   "outputs": [
    {
     "name": "stdout",
     "output_type": "stream",
     "text": [
      "###[ IP ]###\n",
      "  version   = 4\n",
      "  ihl       = None\n",
      "  tos       = 0x0\n",
      "  len       = None\n",
      "  id        = 1\n",
      "  flags     = \n",
      "  frag      = 0\n",
      "  ttl       = 64\n",
      "  proto     = hopopt\n",
      "  chksum    = None\n",
      "  src       = 127.0.0.1\n",
      "  dst       = 127.0.0.1\n",
      "  \\options   \\\n",
      "\n"
     ]
    }
   ],
   "source": [
    "# -=-<[ Bismillahirrahmanirrahim ]>-=-\n",
    "# -*- coding: utf-8 -*-\n",
    "# @Date    : 2024-11-12 19:54:52\n",
    "# @Author  : Dahir Muhammad Dahir (dahirmuhammad3@gmail.com)\n",
    "# @Link    : link\n",
    "# @Version : 1.0.0\n",
    "\n",
    "\n",
    "import scapy.all as scapy\n",
    "\n",
    "a = scapy.IP()\n",
    "\n",
    "a.show()\n"
   ]
  },
  {
   "cell_type": "code",
   "execution_count": 3,
   "metadata": {},
   "outputs": [
    {
     "name": "stdout",
     "output_type": "stream",
     "text": [
      "1731505134.73118 INFO :: Sent settings\n"
     ]
    },
    {
     "ename": "AttributeError",
     "evalue": "type",
     "output_type": "error",
     "traceback": [
      "\u001b[0;31m---------------------------------------------------------------------------\u001b[0m",
      "\u001b[0;31mValueError\u001b[0m                                Traceback (most recent call last)",
      "File \u001b[0;32m~/workspace/data/projects/personal/notebooks/.venv/lib/python3.12/site-packages/scapy/packet.py:480\u001b[0m, in \u001b[0;36mPacket.__getattr__\u001b[0;34m(self, attr)\u001b[0m\n\u001b[1;32m    479\u001b[0m \u001b[38;5;28;01mtry\u001b[39;00m:\n\u001b[0;32m--> 480\u001b[0m     fld, v \u001b[38;5;241m=\u001b[39m \u001b[38;5;28;43mself\u001b[39;49m\u001b[38;5;241;43m.\u001b[39;49m\u001b[43mgetfield_and_val\u001b[49m\u001b[43m(\u001b[49m\u001b[43mattr\u001b[49m\u001b[43m)\u001b[49m\n\u001b[1;32m    481\u001b[0m \u001b[38;5;28;01mexcept\u001b[39;00m \u001b[38;5;167;01mValueError\u001b[39;00m:\n",
      "File \u001b[0;32m~/workspace/data/projects/personal/notebooks/.venv/lib/python3.12/site-packages/scapy/packet.py:475\u001b[0m, in \u001b[0;36mPacket.getfield_and_val\u001b[0;34m(self, attr)\u001b[0m\n\u001b[1;32m    474\u001b[0m     \u001b[38;5;28;01mreturn\u001b[39;00m \u001b[38;5;28mself\u001b[39m\u001b[38;5;241m.\u001b[39mget_field(attr), \u001b[38;5;28mself\u001b[39m\u001b[38;5;241m.\u001b[39mdefault_fields[attr]\n\u001b[0;32m--> 475\u001b[0m \u001b[38;5;28;01mraise\u001b[39;00m \u001b[38;5;167;01mValueError\u001b[39;00m\n",
      "\u001b[0;31mValueError\u001b[0m: ",
      "\nDuring handling of the above exception, another exception occurred:\n",
      "\u001b[0;31mAttributeError\u001b[0m                            Traceback (most recent call last)",
      "Cell \u001b[0;32mIn[3], line 4\u001b[0m\n\u001b[1;32m      1\u001b[0m \u001b[38;5;28;01mimport\u001b[39;00m \u001b[38;5;21;01mh2tinker\u001b[39;00m \u001b[38;5;28;01mas\u001b[39;00m \u001b[38;5;21;01mh2\u001b[39;00m\n\u001b[1;32m      3\u001b[0m conn \u001b[38;5;241m=\u001b[39m h2\u001b[38;5;241m.\u001b[39mH2TLSConnection()\n\u001b[0;32m----> 4\u001b[0m \u001b[43mconn\u001b[49m\u001b[38;5;241;43m.\u001b[39;49m\u001b[43msetup\u001b[49m\u001b[43m(\u001b[49m\u001b[38;5;124;43m\"\u001b[39;49m\u001b[38;5;124;43mgoogle.com\u001b[39;49m\u001b[38;5;124;43m\"\u001b[39;49m\u001b[43m)\u001b[49m\n",
      "File \u001b[0;32m~/workspace/data/projects/personal/notebooks/.venv/lib/python3.12/site-packages/h2tinker/h2_tls_connection.py:55\u001b[0m, in \u001b[0;36mH2TLSConnection.setup\u001b[0;34m(self, host, port)\u001b[0m\n\u001b[1;32m     53\u001b[0m \u001b[38;5;28mself\u001b[39m\u001b[38;5;241m.\u001b[39m_send_preface()\n\u001b[1;32m     54\u001b[0m \u001b[38;5;28mself\u001b[39m\u001b[38;5;241m.\u001b[39m_send_initial_settings()\n\u001b[0;32m---> 55\u001b[0m \u001b[38;5;28;43mself\u001b[39;49m\u001b[38;5;241;43m.\u001b[39;49m\u001b[43m_setup_wait_loop\u001b[49m\u001b[43m(\u001b[49m\u001b[43m)\u001b[49m\n\u001b[1;32m     56\u001b[0m \u001b[38;5;28mself\u001b[39m\u001b[38;5;241m.\u001b[39mis_setup_completed \u001b[38;5;241m=\u001b[39m \u001b[38;5;28;01mTrue\u001b[39;00m\n\u001b[1;32m     57\u001b[0m log\u001b[38;5;241m.\u001b[39minfo(\u001b[38;5;124m\"\u001b[39m\u001b[38;5;124mCompleted HTTP/2 connection setup\u001b[39m\u001b[38;5;124m\"\u001b[39m)\n",
      "File \u001b[0;32m~/workspace/data/projects/personal/notebooks/.venv/lib/python3.12/site-packages/h2tinker/h2_connection.py:135\u001b[0m, in \u001b[0;36mH2Connection._setup_wait_loop\u001b[0;34m(self)\u001b[0m\n\u001b[1;32m    133\u001b[0m frames \u001b[38;5;241m=\u001b[39m \u001b[38;5;28mself\u001b[39m\u001b[38;5;241m.\u001b[39m_recv_frames()\n\u001b[1;32m    134\u001b[0m \u001b[38;5;28;01mfor\u001b[39;00m f \u001b[38;5;129;01min\u001b[39;00m frames:\n\u001b[0;32m--> 135\u001b[0m     \u001b[38;5;28;01mif\u001b[39;00m \u001b[43mis_frame_type\u001b[49m\u001b[43m(\u001b[49m\u001b[43mf\u001b[49m\u001b[43m,\u001b[49m\u001b[43m \u001b[49m\u001b[43mh2\u001b[49m\u001b[38;5;241;43m.\u001b[39;49m\u001b[43mH2SettingsFrame\u001b[49m\u001b[43m)\u001b[49m:\n\u001b[1;32m    136\u001b[0m         \u001b[38;5;28;01mif\u001b[39;00m has_ack_set(f):\n\u001b[1;32m    137\u001b[0m             log\u001b[38;5;241m.\u001b[39minfo(\u001b[38;5;124m\"\u001b[39m\u001b[38;5;124mServer acked our settings\u001b[39m\u001b[38;5;124m\"\u001b[39m)\n",
      "File \u001b[0;32m~/workspace/data/projects/personal/notebooks/.venv/lib/python3.12/site-packages/h2tinker/frames.py:112\u001b[0m, in \u001b[0;36mis_frame_type\u001b[0;34m(h2_frame, inner_frame_type)\u001b[0m\n\u001b[1;32m    105\u001b[0m \u001b[38;5;28;01mdef\u001b[39;00m \u001b[38;5;21mis_frame_type\u001b[39m(h2_frame: h2\u001b[38;5;241m.\u001b[39mH2Frame,\n\u001b[1;32m    106\u001b[0m                   inner_frame_type: T\u001b[38;5;241m.\u001b[39mType[h2\u001b[38;5;241m.\u001b[39mH2FramePayload]) \u001b[38;5;241m-\u001b[39m\u001b[38;5;241m>\u001b[39m \u001b[38;5;28mbool\u001b[39m:\n\u001b[1;32m    107\u001b[0m \u001b[38;5;250m    \u001b[39m\u001b[38;5;124;03m\"\"\"\u001b[39;00m\n\u001b[1;32m    108\u001b[0m \u001b[38;5;124;03m    Check the type of a HTTP/2 frame.\u001b[39;00m\n\u001b[1;32m    109\u001b[0m \u001b[38;5;124;03m    :param h2_frame: unknown-type frame\u001b[39;00m\n\u001b[1;32m    110\u001b[0m \u001b[38;5;124;03m    :param inner_frame_type: specific frame type\u001b[39;00m\n\u001b[1;32m    111\u001b[0m \u001b[38;5;124;03m    \"\"\"\u001b[39;00m\n\u001b[0;32m--> 112\u001b[0m     type_id_matches \u001b[38;5;241m=\u001b[39m \u001b[43mh2_frame\u001b[49m\u001b[38;5;241;43m.\u001b[39;49m\u001b[43mtype\u001b[49m \u001b[38;5;241m==\u001b[39m inner_frame_type\u001b[38;5;241m.\u001b[39mtype_id\n\u001b[1;32m    113\u001b[0m     class_matches \u001b[38;5;241m=\u001b[39m \u001b[38;5;28misinstance\u001b[39m(h2_frame\u001b[38;5;241m.\u001b[39mpayload, inner_frame_type) \u001b[38;5;129;01mor\u001b[39;00m \u001b[38;5;28misinstance\u001b[39m(h2_frame\u001b[38;5;241m.\u001b[39mpayload, NoPayload)\n\u001b[1;32m    114\u001b[0m     \u001b[38;5;28;01mif\u001b[39;00m type_id_matches \u001b[38;5;241m!=\u001b[39m class_matches:\n",
      "File \u001b[0;32m~/workspace/data/projects/personal/notebooks/.venv/lib/python3.12/site-packages/scapy/packet.py:482\u001b[0m, in \u001b[0;36mPacket.__getattr__\u001b[0;34m(self, attr)\u001b[0m\n\u001b[1;32m    480\u001b[0m     fld, v \u001b[38;5;241m=\u001b[39m \u001b[38;5;28mself\u001b[39m\u001b[38;5;241m.\u001b[39mgetfield_and_val(attr)\n\u001b[1;32m    481\u001b[0m \u001b[38;5;28;01mexcept\u001b[39;00m \u001b[38;5;167;01mValueError\u001b[39;00m:\n\u001b[0;32m--> 482\u001b[0m     \u001b[38;5;28;01mreturn\u001b[39;00m \u001b[38;5;28;43mself\u001b[39;49m\u001b[38;5;241;43m.\u001b[39;49m\u001b[43mpayload\u001b[49m\u001b[38;5;241;43m.\u001b[39;49m\u001b[38;5;21;43m__getattr__\u001b[39;49m\u001b[43m(\u001b[49m\u001b[43mattr\u001b[49m\u001b[43m)\u001b[49m\n\u001b[1;32m    483\u001b[0m \u001b[38;5;28;01mif\u001b[39;00m fld \u001b[38;5;129;01mis\u001b[39;00m \u001b[38;5;129;01mnot\u001b[39;00m \u001b[38;5;28;01mNone\u001b[39;00m:\n\u001b[1;32m    484\u001b[0m     \u001b[38;5;28;01mreturn\u001b[39;00m v \u001b[38;5;28;01mif\u001b[39;00m \u001b[38;5;28misinstance\u001b[39m(v, RawVal) \u001b[38;5;28;01melse\u001b[39;00m fld\u001b[38;5;241m.\u001b[39mi2h(\u001b[38;5;28mself\u001b[39m, v)\n",
      "File \u001b[0;32m~/workspace/data/projects/personal/notebooks/.venv/lib/python3.12/site-packages/scapy/packet.py:480\u001b[0m, in \u001b[0;36mPacket.__getattr__\u001b[0;34m(self, attr)\u001b[0m\n\u001b[1;32m    477\u001b[0m \u001b[38;5;28;01mdef\u001b[39;00m \u001b[38;5;21m__getattr__\u001b[39m(\u001b[38;5;28mself\u001b[39m, attr):\n\u001b[1;32m    478\u001b[0m     \u001b[38;5;66;03m# type: (str) -> Any\u001b[39;00m\n\u001b[1;32m    479\u001b[0m     \u001b[38;5;28;01mtry\u001b[39;00m:\n\u001b[0;32m--> 480\u001b[0m         fld, v \u001b[38;5;241m=\u001b[39m \u001b[38;5;28;43mself\u001b[39;49m\u001b[38;5;241;43m.\u001b[39;49m\u001b[43mgetfield_and_val\u001b[49m\u001b[43m(\u001b[49m\u001b[43mattr\u001b[49m\u001b[43m)\u001b[49m\n\u001b[1;32m    481\u001b[0m     \u001b[38;5;28;01mexcept\u001b[39;00m \u001b[38;5;167;01mValueError\u001b[39;00m:\n\u001b[1;32m    482\u001b[0m         \u001b[38;5;28;01mreturn\u001b[39;00m \u001b[38;5;28mself\u001b[39m\u001b[38;5;241m.\u001b[39mpayload\u001b[38;5;241m.\u001b[39m\u001b[38;5;21m__getattr__\u001b[39m(attr)\n",
      "File \u001b[0;32m~/workspace/data/projects/personal/notebooks/.venv/lib/python3.12/site-packages/scapy/packet.py:1886\u001b[0m, in \u001b[0;36mNoPayload.getfield_and_val\u001b[0;34m(self, attr)\u001b[0m\n\u001b[1;32m   1884\u001b[0m \u001b[38;5;28;01mdef\u001b[39;00m \u001b[38;5;21mgetfield_and_val\u001b[39m(\u001b[38;5;28mself\u001b[39m, attr):\n\u001b[1;32m   1885\u001b[0m     \u001b[38;5;66;03m# type: (str) -> NoReturn\u001b[39;00m\n\u001b[0;32m-> 1886\u001b[0m     \u001b[38;5;28;01mraise\u001b[39;00m \u001b[38;5;167;01mAttributeError\u001b[39;00m(attr)\n",
      "\u001b[0;31mAttributeError\u001b[0m: type"
     ]
    }
   ],
   "source": [
    "import h2tinker as h2\n",
    "\n",
    "conn = h2.H2TLSConnection()\n",
    "conn.setup(\"google.com\")\n"
   ]
  },
  {
   "cell_type": "code",
   "execution_count": null,
   "metadata": {},
   "outputs": [],
   "source": []
  }
 ],
 "metadata": {
  "kernelspec": {
   "display_name": ".venv",
   "language": "python",
   "name": "python3"
  },
  "language_info": {
   "codemirror_mode": {
    "name": "ipython",
    "version": 3
   },
   "file_extension": ".py",
   "mimetype": "text/x-python",
   "name": "python",
   "nbconvert_exporter": "python",
   "pygments_lexer": "ipython3",
   "version": "3.12.3"
  }
 },
 "nbformat": 4,
 "nbformat_minor": 2
}
