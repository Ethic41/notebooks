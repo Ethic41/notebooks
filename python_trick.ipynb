{
 "cells": [
  {
   "cell_type": "code",
   "execution_count": null,
   "metadata": {},
   "outputs": [],
   "source": [
    "#!/usr/bin/env python\n",
    "# -=-<[ Bismillahirrahmanirrahim ]>-=-\n",
    "# -*- coding: utf-8 -*-\n",
    "# @Date    : 2023-08-18 00:03:42\n",
    "# @Author  : Dahir Muhammad Dahir (dahirmuhammad3@gmail.com)\n",
    "# @Link    : link\n",
    "# @Version : 1.0.0\n",
    "\n",
    "\n",
    "# self typing\n",
    "\n",
    "from typing import Any, Self\n",
    "\n",
    "\n",
    "class Stack:\n",
    "    def __init__(self) -> None:\n",
    "        self.items: list[Any] = []\n",
    "\n",
    "    def push(self, item: Any) -> Self:\n",
    "        self.items.append(item)\n",
    "        return self\n",
    "\n",
    "    def pop(self) -> Any:\n",
    "        if self.__bool__():\n",
    "            return self.items.pop()\n",
    "        else:\n",
    "            raise ValueError(\"Stack is empty\")\n",
    "\n",
    "    def __bool__(self) -> bool:\n",
    "        return len(self.items) > 0\n"
   ]
  }
 ],
 "metadata": {
  "language_info": {
   "name": "python"
  },
  "orig_nbformat": 4
 },
 "nbformat": 4,
 "nbformat_minor": 2
}
