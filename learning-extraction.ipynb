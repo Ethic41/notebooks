{
 "cells": [
  {
   "cell_type": "code",
   "execution_count": 2,
   "id": "9dd42b26",
   "metadata": {},
   "outputs": [],
   "source": [
    "#!/usr/bin/env python\n",
    "# -=-<[ Bismillahirrahmanirrahim ]>-=-\n",
    "# -*- coding: utf-8 -*-\n",
    "# @Date    : 2025-08-02 18:09:10\n",
    "# @Author  : Dahir Muhammad Dahir (dahirmuhammad3@gmail.com)\n",
    "# @Link    : link\n",
    "# @Version : 1.0.0\n",
    "\n",
    "from PyPDF2 import PdfReader\n",
    "from docx import Document"
   ]
  },
  {
   "cell_type": "code",
   "execution_count": 4,
   "id": "2fa337cd",
   "metadata": {},
   "outputs": [
    {
     "name": "stdout",
     "output_type": "stream",
     "text": [
      "Number of pages in PDF: 14\n"
     ]
    }
   ],
   "source": [
    "reader = PdfReader(\"sample_file.pdf\")\n",
    "number_of_pages = len(reader.pages)\n",
    "\n",
    "print(f\"Number of pages in PDF: {number_of_pages}\")"
   ]
  },
  {
   "cell_type": "code",
   "execution_count": 5,
   "id": "713ceeb1",
   "metadata": {},
   "outputs": [
    {
     "name": "stdout",
     "output_type": "stream",
     "text": [
      "Text from the first page: Home Electronics Training Blog Tools Contact About\n",
      "WRT120N fprintf Stack\n",
      "Overflow\n",
      "By Craig   February 19, 2014  \n",
      "Embedded Systems , Security , Tutorials\n",
      "With a good firmware disassembly  and JT AG debug access  to\n",
      "the WR T120N, it’ s time to start examining the code for more\n",
      "interesting bugs.\n",
      "As we’ve seen previously , the WR T120N runs a Real Time\n",
      "Operating System. For security , the R TOS’s administrative web\n",
      "interface employs HTTP  Basic authentication:\n",
      "401 Unauthorized\n",
      "Most of the web pages require authentication, but there are a\n",
      "handful of URLs that are explicitly allowed to bypass\n",
      "authentication:Defcon 24: Blinded By The Light\n",
      "Hardware Hacking W orkshop is\n",
      "Now Live!\n",
      "Binwalk v2.1.1 Stable Release\n",
      "What the Ridiculous Fuck, D-Link?!\n",
      "Hacking the D-Link DIR-890L\n",
      "Jake  on WRT120N fprintf Stack\n",
      "Overflow\n",
      "Jake  on Contact\n",
      "Nobody  on Tools\n",
      "Jake  on Jailbreaking the NeoTV\n",
      "Jake  on Jailbreaking the NeoTVThe W ayback Machine - https://web.archive.org/web/20200130202825/http://www .devttys0.com:80/2014/02/wrt120n-fpri …\n",
      "EMBEDDED DEVICE HACKING/DEV/TTY S0\n",
      "|\n",
      "|\n",
      "Search OK\n",
      "Recent Posts\n",
      "Recent Comments\n"
     ]
    }
   ],
   "source": [
    "page = reader.pages[0]\n",
    "text = page.extract_text()\n",
    "print(f\"Text from the first page: {text}\")"
   ]
  },
  {
   "cell_type": "code",
   "execution_count": null,
   "id": "d0601147",
   "metadata": {},
   "outputs": [],
   "source": []
  }
 ],
 "metadata": {
  "kernelspec": {
   "display_name": "notebooks",
   "language": "python",
   "name": "python3"
  },
  "language_info": {
   "codemirror_mode": {
    "name": "ipython",
    "version": 3
   },
   "file_extension": ".py",
   "mimetype": "text/x-python",
   "name": "python",
   "nbconvert_exporter": "python",
   "pygments_lexer": "ipython3",
   "version": "3.12.3"
  }
 },
 "nbformat": 4,
 "nbformat_minor": 5
}
