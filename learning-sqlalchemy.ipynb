{
 "cells": [
  {
   "cell_type": "code",
   "execution_count": 1,
   "metadata": {},
   "outputs": [],
   "source": [
    "# -=-<[ Bismillahirrahmanirrahim ]>-=-\n",
    "# -*- coding: utf-8 -*-\n",
    "# @Date    : 2024-10-15 17:07:17\n",
    "# @Author  : Dahir Muhammad Dahir (dahirmuhammad3@gmail.com)\n",
    "# @Link    : link\n",
    "# @Version : 1.0.0\n",
    "\n",
    "\n",
    "from sqlalchemy import create_engine\n",
    "from sqlalchemy.orm import DeclarativeBase\n",
    "from sqlalchemy.orm import Mapped\n",
    "from sqlalchemy.orm import mapped_column, relationship, Session\n",
    "from sqlalchemy import String, ForeignKey\n",
    "\n",
    "engine = create_engine(\"sqlite+pysqlite:///:memory:\", echo=True)\n",
    "\n"
   ]
  },
  {
   "cell_type": "code",
   "execution_count": 3,
   "metadata": {},
   "outputs": [
    {
     "data": {
      "text/plain": [
       "<sqlalchemy.orm.decl_api.registry at 0x73a570533250>"
      ]
     },
     "execution_count": 3,
     "metadata": {},
     "output_type": "execute_result"
    }
   ],
   "source": [
    "\n",
    "class Base(DeclarativeBase):\n",
    "    pass\n",
    "\n",
    "Base.metadata\n",
    "Base.registry"
   ]
  },
  {
   "cell_type": "code",
   "execution_count": 4,
   "metadata": {},
   "outputs": [],
   "source": [
    "import ulid\n",
    "\n",
    "import inflect\n",
    "\n",
    "from sqlalchemy import Date, DateTime, Integer\n",
    "from sqlalchemy.ext.declarative import declared_attr\n",
    "from sqlalchemy.sql.functions import func\n",
    "from datetime import date as dt, datetime\n",
    "\n",
    "\n",
    "get_plural = inflect.engine()\n",
    "\n",
    "\n",
    "def get_new_ulid() -> str:\n",
    "    return ulid.ulid()\n",
    "\n",
    "\n",
    "class BaseMixin:\n",
    "    @declared_attr  # type: ignore\n",
    "    def __tablename__(cls) -> str:\n",
    "        plural_name: str = get_plural.plural_noun(cls.__name__.lower())\n",
    "        return plural_name\n",
    "\n",
    "    id: Mapped[int] = mapped_column(\n",
    "        Integer, primary_key=True, nullable=False, autoincrement=True\n",
    "    )\n",
    "    uuid: Mapped[str] = mapped_column(\n",
    "        String(length=50), unique=True, nullable=False, default=get_new_ulid\n",
    "    )\n",
    "    date: Mapped[dt] = mapped_column(\n",
    "        Date,\n",
    "        index=True,\n",
    "        default=dt.today,\n",
    "        nullable=True,\n",
    "        server_default=func.current_date(),\n",
    "    )\n",
    "    created_at: Mapped[datetime] = mapped_column(\n",
    "        DateTime, index=True, server_default=func.now(), nullable=False\n",
    "    )\n",
    "    last_modified: Mapped[datetime] = mapped_column(\n",
    "        DateTime, server_default=func.now(), onupdate=func.now(), nullable=False\n",
    "    )\n",
    "\n",
    "\n",
    "# class BaseModelMixin(BaseMixin):\n",
    "#     @declared_attr\n",
    "#     def created_by(cls: Any) -> Mapped[str]:\n",
    "#         return mapped_column(String(50), ForeignKey(\"users.uuid\"), nullable=False)\n",
    "\n",
    "#     @declared_attr\n",
    "#     def creator(cls: Any) -> Mapped[str]:\n",
    "#         return relationship(\"User\", lazy=\"joined\")\n",
    "\n",
    "\n",
    "class Yard(BaseMixin, Base):\n",
    "    name: Mapped[str] = mapped_column(String(50), nullable=False)\n",
    "    location: Mapped[str] = mapped_column(String(50), nullable=False)\n",
    "\n",
    "\n",
    "\n",
    "class User(Base):\n",
    "    __tablename__ = \"user_account\"\n",
    "\n",
    "    id: Mapped[int] = mapped_column(primary_key=True)\n",
    "    name: Mapped[str] = mapped_column(String(30))\n",
    "    fullname: Mapped[str | None]\n",
    "\n",
    "    addresses: Mapped[list[\"Address\"]] = relationship(back_populates=\"user\")\n",
    "\n",
    "    def __repr__(self) -> str:\n",
    "        return f\"User(id={self.id!r}, name={self.name!r}, fullname={self.fullname!r})\"\n",
    "\n",
    "\n",
    "class Address(Base):\n",
    "    __tablename__ = \"address\"\n",
    "\n",
    "    id: Mapped[int] = mapped_column(primary_key=True)\n",
    "    email_address: Mapped[str]\n",
    "    user_id: Mapped[int] = mapped_column(ForeignKey(\"user_account.id\"))\n",
    "\n",
    "    user: Mapped[User] = relationship(\"User\", back_populates=\"addresses\")\n",
    "\n",
    "    def __repr__(self) -> str:\n",
    "        return f\"Address(id={self.id!r}, email_address={self.email_address!r})\"\n",
    "\n"
   ]
  },
  {
   "cell_type": "code",
   "execution_count": 5,
   "metadata": {},
   "outputs": [
    {
     "name": "stdout",
     "output_type": "stream",
     "text": [
      "2024-10-19 13:14:36,966 INFO sqlalchemy.engine.Engine BEGIN (implicit)\n",
      "2024-10-19 13:14:36,967 INFO sqlalchemy.engine.Engine PRAGMA main.table_info(\"yards\")\n",
      "2024-10-19 13:14:36,967 INFO sqlalchemy.engine.Engine [raw sql] ()\n",
      "2024-10-19 13:14:36,968 INFO sqlalchemy.engine.Engine PRAGMA temp.table_info(\"yards\")\n",
      "2024-10-19 13:14:36,969 INFO sqlalchemy.engine.Engine [raw sql] ()\n",
      "2024-10-19 13:14:36,970 INFO sqlalchemy.engine.Engine PRAGMA main.table_info(\"user_account\")\n",
      "2024-10-19 13:14:36,970 INFO sqlalchemy.engine.Engine [raw sql] ()\n",
      "2024-10-19 13:14:36,971 INFO sqlalchemy.engine.Engine PRAGMA temp.table_info(\"user_account\")\n",
      "2024-10-19 13:14:36,971 INFO sqlalchemy.engine.Engine [raw sql] ()\n",
      "2024-10-19 13:14:36,972 INFO sqlalchemy.engine.Engine PRAGMA main.table_info(\"address\")\n",
      "2024-10-19 13:14:36,972 INFO sqlalchemy.engine.Engine [raw sql] ()\n",
      "2024-10-19 13:14:36,973 INFO sqlalchemy.engine.Engine PRAGMA temp.table_info(\"address\")\n",
      "2024-10-19 13:14:36,973 INFO sqlalchemy.engine.Engine [raw sql] ()\n",
      "2024-10-19 13:14:36,974 INFO sqlalchemy.engine.Engine \n",
      "CREATE TABLE yards (\n",
      "\tname VARCHAR(50) NOT NULL, \n",
      "\tlocation VARCHAR(50) NOT NULL, \n",
      "\tid INTEGER NOT NULL, \n",
      "\tuuid VARCHAR(50) NOT NULL, \n",
      "\tdate DATE DEFAULT (CURRENT_DATE), \n",
      "\tcreated_at DATETIME DEFAULT (CURRENT_TIMESTAMP) NOT NULL, \n",
      "\tlast_modified DATETIME DEFAULT (CURRENT_TIMESTAMP) NOT NULL, \n",
      "\tPRIMARY KEY (id), \n",
      "\tUNIQUE (uuid)\n",
      ")\n",
      "\n",
      "\n",
      "2024-10-19 13:14:36,975 INFO sqlalchemy.engine.Engine [no key 0.00031s] ()\n",
      "2024-10-19 13:14:36,975 INFO sqlalchemy.engine.Engine CREATE INDEX ix_yards_created_at ON yards (created_at)\n",
      "2024-10-19 13:14:36,976 INFO sqlalchemy.engine.Engine [no key 0.00026s] ()\n",
      "2024-10-19 13:14:36,976 INFO sqlalchemy.engine.Engine CREATE INDEX ix_yards_date ON yards (date)\n",
      "2024-10-19 13:14:36,977 INFO sqlalchemy.engine.Engine [no key 0.00029s] ()\n",
      "2024-10-19 13:14:36,978 INFO sqlalchemy.engine.Engine \n",
      "CREATE TABLE user_account (\n",
      "\tid INTEGER NOT NULL, \n",
      "\tname VARCHAR(30) NOT NULL, \n",
      "\tfullname VARCHAR, \n",
      "\tPRIMARY KEY (id)\n",
      ")\n",
      "\n",
      "\n",
      "2024-10-19 13:14:36,978 INFO sqlalchemy.engine.Engine [no key 0.00038s] ()\n",
      "2024-10-19 13:14:36,979 INFO sqlalchemy.engine.Engine \n",
      "CREATE TABLE address (\n",
      "\tid INTEGER NOT NULL, \n",
      "\temail_address VARCHAR NOT NULL, \n",
      "\tuser_id INTEGER NOT NULL, \n",
      "\tPRIMARY KEY (id), \n",
      "\tFOREIGN KEY(user_id) REFERENCES user_account (id)\n",
      ")\n",
      "\n",
      "\n",
      "2024-10-19 13:14:36,979 INFO sqlalchemy.engine.Engine [no key 0.00036s] ()\n",
      "2024-10-19 13:14:36,979 INFO sqlalchemy.engine.Engine COMMIT\n"
     ]
    }
   ],
   "source": [
    "# create the tables in db\n",
    "\n",
    "Base.metadata.create_all(engine)"
   ]
  },
  {
   "cell_type": "code",
   "execution_count": 6,
   "metadata": {},
   "outputs": [
    {
     "name": "stdout",
     "output_type": "stream",
     "text": [
      "INSERT INTO user_account (name, fullname) VALUES (:name, :fullname)\n"
     ]
    }
   ],
   "source": [
    "# inserting data using core\n",
    "from sqlalchemy import insert\n",
    "\n",
    "stmt = insert(User).values(name=\"dahir\", fullname=\"dahir muhammad\")\n",
    "print(stmt)\n"
   ]
  },
  {
   "cell_type": "code",
   "execution_count": 7,
   "metadata": {},
   "outputs": [
    {
     "name": "stdout",
     "output_type": "stream",
     "text": [
      "2024-10-19 13:14:45,606 INFO sqlalchemy.engine.Engine BEGIN (implicit)\n",
      "2024-10-19 13:14:45,607 INFO sqlalchemy.engine.Engine INSERT INTO user_account (name, fullname) VALUES (?, ?)\n",
      "2024-10-19 13:14:45,608 INFO sqlalchemy.engine.Engine [generated in 0.00206s] ('dahir', 'dahir muhammad')\n",
      "2024-10-19 13:14:45,608 INFO sqlalchemy.engine.Engine COMMIT\n"
     ]
    }
   ],
   "source": [
    "with engine.connect() as conn:\n",
    "    result = conn.execute(stmt)\n",
    "    conn.commit()\n"
   ]
  },
  {
   "cell_type": "code",
   "execution_count": 7,
   "metadata": {},
   "outputs": [
    {
     "data": {
      "text/plain": [
       "(1,)"
      ]
     },
     "execution_count": 7,
     "metadata": {},
     "output_type": "execute_result"
    }
   ],
   "source": [
    "result.inserted_primary_key"
   ]
  },
  {
   "cell_type": "code",
   "execution_count": 8,
   "metadata": {},
   "outputs": [],
   "source": [
    "squidward = User(name=\"squidward\", fullname=\"squidward tentacles\")\n",
    "krabs = User(name=\"krabs\", fullname=\"eugene krabs\")\n",
    "spongebob = User(name=\"spongebob\", fullname=\"spongebob squarepants\")"
   ]
  },
  {
   "cell_type": "code",
   "execution_count": 9,
   "metadata": {},
   "outputs": [
    {
     "name": "stdout",
     "output_type": "stream",
     "text": [
      "2024-10-18 20:56:41,887 INFO sqlalchemy.engine.Engine BEGIN (implicit)\n",
      "2024-10-18 20:56:41,889 INFO sqlalchemy.engine.Engine INSERT INTO user_account (name, fullname) VALUES (?, ?) RETURNING id\n",
      "2024-10-18 20:56:41,889 INFO sqlalchemy.engine.Engine [generated in 0.00011s (insertmanyvalues) 1/3 (ordered; batch not supported)] ('squidward', 'squidward tentacles')\n",
      "2024-10-18 20:56:41,890 INFO sqlalchemy.engine.Engine INSERT INTO user_account (name, fullname) VALUES (?, ?) RETURNING id\n",
      "2024-10-18 20:56:41,890 INFO sqlalchemy.engine.Engine [insertmanyvalues 2/3 (ordered; batch not supported)] ('krabs', 'eugene krabs')\n",
      "2024-10-18 20:56:41,890 INFO sqlalchemy.engine.Engine INSERT INTO user_account (name, fullname) VALUES (?, ?) RETURNING id\n",
      "2024-10-18 20:56:41,890 INFO sqlalchemy.engine.Engine [insertmanyvalues 3/3 (ordered; batch not supported)] ('spongebob', 'spongebob squarepants')\n",
      "2024-10-18 20:56:41,891 INFO sqlalchemy.engine.Engine COMMIT\n"
     ]
    }
   ],
   "source": [
    "with Session(engine) as session:\n",
    "    session.add(squidward)\n",
    "    session.add(krabs)\n",
    "    session.add(spongebob)\n",
    "    session.commit()\n",
    "\n"
   ]
  },
  {
   "cell_type": "code",
   "execution_count": 10,
   "metadata": {},
   "outputs": [
    {
     "name": "stdout",
     "output_type": "stream",
     "text": [
      "2024-10-18 20:56:41,896 INFO sqlalchemy.engine.Engine BEGIN (implicit)\n",
      "2024-10-18 20:56:41,898 INFO sqlalchemy.engine.Engine SELECT user_account.fullname \n",
      "FROM user_account \n",
      "WHERE user_account.id = ?\n",
      "2024-10-18 20:56:41,899 INFO sqlalchemy.engine.Engine [generated in 0.00078s] (2,)\n",
      "2024-10-18 20:56:41,900 INFO sqlalchemy.engine.Engine ROLLBACK\n",
      "squidward tentacles\n"
     ]
    }
   ],
   "source": [
    "from sqlalchemy import select\n",
    "stmt = select(User.fullname).where(User.id == 2)\n",
    "\n",
    "with Session(engine) as session:\n",
    "    result = session.execute(stmt).scalar_one()\n",
    "\n",
    "print(result)"
   ]
  },
  {
   "cell_type": "code",
   "execution_count": 11,
   "metadata": {},
   "outputs": [
    {
     "name": "stdout",
     "output_type": "stream",
     "text": [
      "2024-10-18 20:56:41,905 INFO sqlalchemy.engine.Engine BEGIN (implicit)\n",
      "2024-10-18 20:56:41,907 INFO sqlalchemy.engine.Engine SELECT user_account.id, user_account.name, user_account.fullname \n",
      "FROM user_account \n",
      "WHERE user_account.name = ?\n",
      "2024-10-18 20:56:41,908 INFO sqlalchemy.engine.Engine [generated in 0.00064s] ('spongebob',)\n"
     ]
    }
   ],
   "source": [
    "stmt = select(User).where(User.name == \"spongebob\")\n",
    "result = session.execute(stmt)"
   ]
  },
  {
   "cell_type": "code",
   "execution_count": 12,
   "metadata": {},
   "outputs": [
    {
     "name": "stdout",
     "output_type": "stream",
     "text": [
      "[(User(id=4, name='spongebob', fullname='spongebob squarepants'),)]\n"
     ]
    }
   ],
   "source": [
    "print(result.all())"
   ]
  },
  {
   "cell_type": "code",
   "execution_count": 8,
   "metadata": {},
   "outputs": [
    {
     "name": "stdout",
     "output_type": "stream",
     "text": [
      "2024-10-19 13:32:44,013 INFO sqlalchemy.engine.Engine BEGIN (implicit)\n",
      "2024-10-19 13:32:44,016 INFO sqlalchemy.engine.Engine INSERT INTO yards (name, location, uuid, date) VALUES (?, ?, ?, ?) RETURNING id, created_at, last_modified\n",
      "2024-10-19 13:32:44,017 INFO sqlalchemy.engine.Engine [generated in 0.00139s] ('my yard', 'my location', '01JAJC82FF35VHMMG45YHQ77H3', '2024-10-19')\n",
      "2024-10-19 13:32:44,018 INFO sqlalchemy.engine.Engine COMMIT\n"
     ]
    }
   ],
   "source": [
    "\n",
    "my_yard = Yard(name=\"my yard\", location=\"my location\")\n",
    "\n",
    "with Session(engine) as session:\n",
    "    session.add(my_yard)\n",
    "    session.commit()\n",
    "\n"
   ]
  },
  {
   "cell_type": "code",
   "execution_count": null,
   "metadata": {},
   "outputs": [],
   "source": [
    "\n",
    "from google.cloud import storage\n",
    "from google.cloud.client import Client\n",
    "\n",
    "client = Client()\n",
    "\n",
    "cli = storage.\n"
   ]
  }
 ],
 "metadata": {
  "kernelspec": {
   "display_name": ".venv",
   "language": "python",
   "name": "python3"
  },
  "language_info": {
   "codemirror_mode": {
    "name": "ipython",
    "version": 3
   },
   "file_extension": ".py",
   "mimetype": "text/x-python",
   "name": "python",
   "nbconvert_exporter": "python",
   "pygments_lexer": "ipython3",
   "version": "3.13.0"
  }
 },
 "nbformat": 4,
 "nbformat_minor": 2
}
