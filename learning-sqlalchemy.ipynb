{
 "cells": [
  {
   "cell_type": "code",
   "execution_count": 14,
   "metadata": {},
   "outputs": [],
   "source": [
    "# -=-<[ Bismillahirrahmanirrahim ]>-=-\n",
    "# -*- coding: utf-8 -*-\n",
    "# @Date    : 2024-10-15 17:07:17\n",
    "# @Author  : Dahir Muhammad Dahir (dahirmuhammad3@gmail.com)\n",
    "# @Link    : link\n",
    "# @Version : 1.0.0\n",
    "\n",
    "\n",
    "from sqlalchemy import create_engine\n",
    "from sqlalchemy.orm import DeclarativeBase\n",
    "from sqlalchemy.orm import Mapped\n",
    "from sqlalchemy.orm import mapped_column\n",
    "from sqlalchemy.orm import relationship\n",
    "from sqlalchemy import String, ForeignKey\n",
    "\n",
    "engine = create_engine(\"sqlite+pysqlite:///:memory:\", echo=True)\n",
    "\n"
   ]
  },
  {
   "cell_type": "code",
   "execution_count": 17,
   "metadata": {},
   "outputs": [
    {
     "data": {
      "text/plain": [
       "<sqlalchemy.orm.decl_api.registry at 0x7053c8154c50>"
      ]
     },
     "execution_count": 17,
     "metadata": {},
     "output_type": "execute_result"
    }
   ],
   "source": [
    "\n",
    "class Base(DeclarativeBase):\n",
    "    pass\n",
    "\n",
    "Base.metadata\n",
    "Base.registry"
   ]
  },
  {
   "cell_type": "code",
   "execution_count": 18,
   "metadata": {},
   "outputs": [],
   "source": [
    "\n",
    "class User(Base):\n",
    "    __tablename__ = \"user_account\"\n",
    "\n",
    "    id: Mapped[int] = mapped_column(primary_key=True)\n",
    "    name: Mapped[str] = mapped_column(String(30))\n",
    "    fullname: Mapped[str | None]\n",
    "\n",
    "    addresses: Mapped[list[\"Address\"]] = relationship(back_populates=\"user\")\n",
    "\n",
    "    def __repr__(self) -> str:\n",
    "        return f\"User(id={self.id!r}, name={self.name!r}, fullname={self.fullname!r})\"\n",
    "\n",
    "\n",
    "class Address(Base):\n",
    "    __tablename__ = \"address\"\n",
    "\n",
    "    id: Mapped[int] = mapped_column(primary_key=True)\n",
    "    email_address: Mapped[str]\n",
    "    user_id: Mapped[int] = mapped_column(ForeignKey(\"user_account.id\"))\n",
    "\n",
    "    user: Mapped[User] = relationship(\"User\", back_populates=\"addresses\")\n",
    "\n",
    "    def __repr__(self) -> str:\n",
    "        return f\"Address(id={self.id!r}, email_address={self.email_address!r})\"\n",
    "\n"
   ]
  },
  {
   "cell_type": "code",
   "execution_count": null,
   "metadata": {},
   "outputs": [],
   "source": [
    "# create the tables in db\n",
    "\n",
    "Base.metadata.create_all(engine)"
   ]
  },
  {
   "cell_type": "code",
   "execution_count": 20,
   "metadata": {},
   "outputs": [
    {
     "name": "stdout",
     "output_type": "stream",
     "text": [
      "INSERT INTO user_account (name, fullname) VALUES (:name, :fullname)\n"
     ]
    }
   ],
   "source": [
    "# inserting data using core\n",
    "from sqlalchemy import insert\n",
    "\n",
    "stmt = insert(User).values(name=\"dahir\", fullname=\"dahir muhammad\")\n",
    "print(stmt)\n"
   ]
  },
  {
   "cell_type": "code",
   "execution_count": 21,
   "metadata": {},
   "outputs": [
    {
     "name": "stdout",
     "output_type": "stream",
     "text": [
      "2024-10-15 19:20:17,999 INFO sqlalchemy.engine.Engine BEGIN (implicit)\n",
      "2024-10-15 19:20:18,000 INFO sqlalchemy.engine.Engine INSERT INTO user_account (name, fullname) VALUES (?, ?)\n",
      "2024-10-15 19:20:18,000 INFO sqlalchemy.engine.Engine [generated in 0.00113s] ('dahir', 'dahir muhammad')\n",
      "2024-10-15 19:20:18,001 INFO sqlalchemy.engine.Engine COMMIT\n"
     ]
    }
   ],
   "source": [
    "with engine.connect() as conn:\n",
    "    result = conn.execute(stmt)\n",
    "    conn.commit()\n"
   ]
  },
  {
   "cell_type": "code",
   "execution_count": 22,
   "metadata": {},
   "outputs": [
    {
     "data": {
      "text/plain": [
       "(1,)"
      ]
     },
     "execution_count": 22,
     "metadata": {},
     "output_type": "execute_result"
    }
   ],
   "source": [
    "result.inserted_primary_key"
   ]
  },
  {
   "cell_type": "code",
   "execution_count": null,
   "metadata": {},
   "outputs": [],
   "source": []
  }
 ],
 "metadata": {
  "kernelspec": {
   "display_name": ".venv",
   "language": "python",
   "name": "python3"
  },
  "language_info": {
   "codemirror_mode": {
    "name": "ipython",
    "version": 3
   },
   "file_extension": ".py",
   "mimetype": "text/x-python",
   "name": "python",
   "nbconvert_exporter": "python",
   "pygments_lexer": "ipython3",
   "version": "3.13.0"
  }
 },
 "nbformat": 4,
 "nbformat_minor": 2
}
