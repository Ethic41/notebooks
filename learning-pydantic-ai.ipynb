{
 "cells": [
  {
   "cell_type": "code",
   "execution_count": null,
   "id": "510c763e",
   "metadata": {},
   "outputs": [],
   "source": [
    "#!/usr/bin/env python\n",
    "# -=-<[ Bismillahirrahmanirrahim ]>-=-\n",
    "# -*- coding: utf-8 -*-\n",
    "# @Date    : 2025-07-28 11:24:06\n",
    "# @Author  : Dahir Muhammad Dahir (dahirmuhammad3@gmail.com)\n",
    "# @Link    : link\n",
    "# @Version : 1.0.0\n",
    "\n",
    "from pydantic_ai import Agent, RunContext\n",
    "from pydantic_ai.models.openai import OpenAIModel\n",
    "from pydantic_ai.providers.grok import GrokProvider\n",
    "import nest_asyncio\n",
    "\n",
    "nest_asyncio.apply()"
   ]
  },
  {
   "cell_type": "code",
   "execution_count": null,
   "id": "1ecd17c5",
   "metadata": {},
   "outputs": [
    {
     "name": "stdout",
     "output_type": "stream",
     "text": [
      "Result: True\n",
      "Result: False\n"
     ]
    }
   ],
   "source": [
    "grok = OpenAIModel(\"grok-3-latest\", provider=GrokProvider()) \n",
    "\n",
    "roulette_agent = Agent(\n",
    "    grok,\n",
    "    deps_type=int,\n",
    "    output_type=bool,\n",
    "    system_prompt=(\n",
    "        \"User the `roulette_wheel` function to see if the\"\n",
    "        \"customer has won based the number they provide.\"\n",
    "    ),\n",
    ")\n",
    "\n",
    "@roulette_agent.tool\n",
    "async def roulette_wheel(ctx: RunContext[int], square: int) -> str:\n",
    "    \"\"\"Check if the square is a winner\"\"\"\n",
    "    return \"winner\" if square == ctx.deps else \"loser\"\n",
    "\n",
    "# run the agent\n",
    "success_number = 18\n",
    "result = roulette_agent.run_sync('Put my money on square 18', deps=success_number)\n",
    "print(f\"Result: {result.output}\")\n",
    "\n",
    "result1 = roulette_agent.run_sync('Put my money on square 19', deps=success_number)\n",
    "print(f\"Result: {result1.output}\")\n"
   ]
  },
  {
   "cell_type": "code",
   "execution_count": null,
   "id": "a0bf1e6e",
   "metadata": {},
   "outputs": [],
   "source": []
  },
  {
   "cell_type": "code",
   "execution_count": null,
   "id": "3b71aaa2",
   "metadata": {},
   "outputs": [],
   "source": []
  },
  {
   "cell_type": "code",
   "execution_count": null,
   "id": "6113ede2",
   "metadata": {},
   "outputs": [],
   "source": []
  },
  {
   "cell_type": "code",
   "execution_count": null,
   "id": "8d9f2520",
   "metadata": {},
   "outputs": [],
   "source": []
  },
  {
   "cell_type": "code",
   "execution_count": null,
   "id": "533d5107",
   "metadata": {},
   "outputs": [
    {
     "name": "stdout",
     "output_type": "stream",
     "text": [
      "Albert Einstein (1879–1955) was a German-born theoretical physicist who revolutionized modern physics with his groundbreaking theories, most notably the **theory of relativity**. He is widely regarded as one of the greatest scientists of all time.\n",
      "\n",
      "### **Key Contributions:**\n",
      "1. **Special Theory of Relativity (1905)** – Introduced the famous equation **E=mc²**, showing the relationship between mass and energy.\n",
      "2. **General Theory of Relativity (1915)** – Explained gravity as the curvature of spacetime caused by mass and energy.\n",
      "3. **Photoelectric Effect (1905)** – Explained how light can eject electrons from metals (this work earned him the **Nobel Prize in Physics in 1921**).\n",
      "4. **Brownian Motion** – Provided evidence for the existence of atoms.\n",
      "5. **Quantum Mechanics** – Though skeptical of some interpretations, his work laid foundations for quantum theory.\n",
      "\n",
      "### **Personal Life:**\n",
      "- Born on **March 14, 1879**, in Ulm, Germany.\n",
      "- Fled Nazi Germany in 1933 and settled in the U.S., becoming a professor at **Princeton University**.\n",
      "- Known for his **pacifism, humanitarianism, and advocacy for civil rights**.\n",
      "- Died on **April 18, 1955**, in Princeton, New Jersey.\n",
      "\n",
      "Einstein's name has become synonymous with genius, and his discoveries continue to shape science today. His iconic image—wild hair and thoughtful expression—remains a symbol of intellectual brilliance.\n",
      "\n",
      "Would you like more details on any specific aspect of his life or work?\n"
     ]
    }
   ],
   "source": [
    "\n",
    "agent = Agent(\"deepseek:deepseek-chat\")\n",
    "\n",
    "result1 = agent.run_sync(\"who was albert einstein\")\n",
    "print(result1.output)\n"
   ]
  },
  {
   "cell_type": "code",
   "execution_count": null,
   "id": "1892a61e",
   "metadata": {},
   "outputs": [
    {
     "name": "stdout",
     "output_type": "stream",
     "text": [
      "If you're referring to **Albert Einstein**, his most famous equation is the **mass-energy equivalence** formula from his theory of relativity:\n",
      "\n",
      "\\[\n",
      "E = mc^2\n",
      "\\]\n",
      "\n",
      "### What does it mean?\n",
      "- **E** = Energy  \n",
      "- **m** = Mass  \n",
      "- **c** = Speed of light in a vacuum (~300,000 km/s or 3 × 10⁸ m/s)  \n",
      "\n",
      "This equation shows that **mass can be converted into energy** and vice versa, explaining phenomena like nuclear reactions (e.g., the sun’s energy or atomic bombs).\n",
      "\n",
      "### Other Key Equations by Einstein:\n",
      "1. **General Relativity Field Equations** (1915):  \n",
      "   \\[\n",
      "   G_{\\mu\\nu} + \\Lambda g_{\\mu\\nu} = \\frac{8\\pi G}{c^4} T_{\\mu\\nu}\n",
      "   \\]  \n",
      "   (Describes gravity as the curvature of spacetime by matter/energy.)\n",
      "\n",
      "2. **Photoelectric Effect** (1905, Nobel Prize-winning work):  \n",
      "   \\[\n",
      "   E = h\\nu\n",
      "   \\]  \n",
      "   (Energy of a photon = Planck’s constant × light frequency.)\n",
      "\n",
      "If you meant a different scientist (e.g., Schrödinger’s equation, Maxwell’s equations), let me know!\n",
      "Albert Einstein died on **April 18, 1955**, at the age of **76**.  \n",
      "\n",
      "He was born on **March 14, 1879**, so he lived for **76 years and 1 month**. His death was caused by an **abdominal aortic aneurysm**, and he refused surgery, saying, *\"I want to go when I want. It is tasteless to prolong life artificially.\"*  \n",
      "\n",
      "Would you like details on his later years or legacy?\n"
     ]
    }
   ],
   "source": [
    "result2 = agent.run_sync(\"what was his famous equation\")\n",
    "print(result2.output)\n",
    "\n",
    "result3 = agent.run_sync(\"how old was he when he died?\", message_history=result1.new_messages())\n",
    "print(result3.output)"
   ]
  },
  {
   "cell_type": "code",
   "execution_count": null,
   "id": "89e1421e",
   "metadata": {},
   "outputs": [
    {
     "name": "stdout",
     "output_type": "stream",
     "text": [
      "Hello, Tahir! Your name is of Arabic origin and means \"pure,\" \"virtuous,\" or \"chaste.\" It's a beautiful name with a strong and positive meaning.  \n",
      "\n",
      "As for your question, today's date is **July 29, 2025**. Let me know if there's anything else I can help you with! 😊\n"
     ]
    }
   ],
   "source": [
    "from datetime import date\n",
    "\n",
    "from pydantic_ai import Agent, RunContext\n",
    "\n",
    "agent = Agent(\n",
    "    'deepseek:deepseek-chat',\n",
    "    deps_type=str,  \n",
    "    instructions=\"Use the customer's name while replying to them, also tell them the meaning of their name.\",\n",
    ")\n",
    "\n",
    "\n",
    "@agent.instructions  \n",
    "def add_the_users_name(ctx: RunContext[str]) -> str:\n",
    "    return f\"Please greet the user with their name and also tell them the meaning of their name afterwards. The user's name is {ctx.deps}.\"\n",
    "\n",
    "\n",
    "@agent.instructions\n",
    "def add_the_date() -> str:  \n",
    "    return f'The date is {date.today()}.'\n",
    "\n",
    "\n",
    "result = agent.run_sync('What is the date?', deps='Tahir')\n",
    "print(result.output)"
   ]
  },
  {
   "cell_type": "code",
   "execution_count": null,
   "id": "c61e63b7",
   "metadata": {},
   "outputs": [],
   "source": []
  }
 ],
 "metadata": {
  "kernelspec": {
   "display_name": "notebooks",
   "language": "python",
   "name": "python3"
  },
  "language_info": {
   "codemirror_mode": {
    "name": "ipython",
    "version": 3
   },
   "file_extension": ".py",
   "mimetype": "text/x-python",
   "name": "python",
   "nbconvert_exporter": "python",
   "pygments_lexer": "ipython3",
   "version": "3.12.3"
  }
 },
 "nbformat": 4,
 "nbformat_minor": 5
}
